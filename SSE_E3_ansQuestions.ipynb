{
 "cells": [
  {
   "cell_type": "code",
   "execution_count": 113,
   "metadata": {},
   "outputs": [],
   "source": [
    "import numpy as np\n",
    "import pandas as pd\n",
    "import os\n",
    "import git\n",
    "from git import RemoteProgress\n",
    "from git import Repo\n",
    "from datetime import datetime, date\n",
    "import matplotlib.pyplot as plt\n",
    "import seaborn as sns\n",
    "from time import strptime\n",
    "%matplotlib inline"
   ]
  },
  {
   "cell_type": "code",
   "execution_count": 114,
   "metadata": {},
   "outputs": [],
   "source": [
    "class Progress(RemoteProgress):\n",
    "    def update(self, op_code, cur_count, max_count=None, message=''):\n",
    "        print(self._cur_line)"
   ]
  },
  {
   "cell_type": "code",
   "execution_count": 115,
   "metadata": {},
   "outputs": [],
   "source": [
    "#Spring Framework File 1\n",
    "#remote_link = \"https://github.com/spring-projects/spring-framework\"\n",
    "#local_link = \"C:\\\\Users\\\\User\\\\repo\\\\spring-framework\"\n",
    "#repo = Repo(local_link)\n",
    "#vcc_commit = \"af47a8b79b0fa07ff2c038197a07c09b745802ac\"\n",
    "#affected_files = [\"spring-webmvc/src/main/java/org/springframework/web/servlet/ResourceServlet.java\"]\n",
    "\n",
    "# Camel\n",
    "#remote_link = \"https://github.com/apache/camel\"\n",
    "#local_link = \"C:\\\\Users\\\\User\\\\repo\\\\camel\"\n",
    "#repo = Repo(local_link)\n",
    "#vcc_commit = \"3c97afe7bcef40ca44d2f98d5f17133500c8df06\"\n",
    "#affected_files = [\"camel-core/src/main/java/org/apache/camel/model/dataformat/JsonDataFormat.java\"]\n",
    "\n",
    "# Tika\n",
    "remote_link = \"https://github.com/apache/tika\"\n",
    "local_link = \"C:\\\\Users\\\\User\\\\repo\\\\tika\"\n",
    "repo = Repo(local_link)\n",
    "vcc_commit = \"de7092125649cd61840e27b1f70d68cfab910d89\"\n",
    "affected_files = [\"tika-parsers/src/main/java/org/apache/tika/parser/iptc/IptcAnpaParser.java\"]"
   ]
  },
  {
   "cell_type": "code",
   "execution_count": 116,
   "metadata": {},
   "outputs": [],
   "source": [
    "def removeDuplicates(array):\n",
    "    new_array = []\n",
    "    for value in array:\n",
    "        if value not in new_array:\n",
    "            new_array.append(value)\n",
    "    return new_array"
   ]
  },
  {
   "cell_type": "code",
   "execution_count": 117,
   "metadata": {},
   "outputs": [
    {
     "name": "stdout",
     "output_type": "stream",
     "text": [
      "commit de7092125649cd61840e27b1f70d68cfab910d89\n",
      "Author: Nick Burch <nick@apache.org>\n",
      "Date:   Sat Apr 28 16:53:35 2012 +0000\n",
      "\n",
      "    TIKA-858 Patch from Craig Stires to add support for parsing IPTC ANPA News Wire Feeds\n",
      "    \n",
      "    git-svn-id: https://svn.apache.org/repos/asf/tika/trunk@1331794 13f79535-47bb-0310-9956-ffa450edef68\n"
     ]
    }
   ],
   "source": [
    "show_data = repo.git.show(\"-s\", vcc_commit).splitlines()\n",
    "for line in show_data:\n",
    "    print(line)\n"
   ]
  },
  {
   "cell_type": "code",
   "execution_count": 118,
   "metadata": {},
   "outputs": [
    {
     "name": "stdout",
     "output_type": "stream",
     "text": [
      "3 files changed\n"
     ]
    }
   ],
   "source": [
    "files = repo.git.whatchanged(\"-1\", \"--format=oneline\", vcc_commit).splitlines()\n",
    "files.pop(0)\n",
    "print(str(len(files)) + \" files changed\")"
   ]
  },
  {
   "cell_type": "code",
   "execution_count": 119,
   "metadata": {},
   "outputs": [
    {
     "name": "stdout",
     "output_type": "stream",
     "text": [
      "3 directories changed\n"
     ]
    }
   ],
   "source": [
    "all_directories = []\n",
    "for file in files:\n",
    "    file_split = file.split()\n",
    "    full_dir = file_split[5]\n",
    "    directory = os.path.dirname(full_dir)\n",
    "    all_directories.append(directory)\n",
    "all_directories = removeDuplicates(all_directories)\n",
    "print(str(len(all_directories)) + \" directories changed\")"
   ]
  },
  {
   "cell_type": "code",
   "execution_count": 120,
   "metadata": {},
   "outputs": [
    {
     "name": "stdout",
     "output_type": "stream",
     "text": [
      "Total number of deletions: 0\n",
      "Total number of additions: 830\n"
     ]
    }
   ],
   "source": [
    "lines_changed = repo.git.show(\"--pretty=tformat:\", \"--numstat\", vcc_commit).splitlines()\n",
    "total_lines_added = 0\n",
    "total_lines_deleted = 0\n",
    "for line in lines_changed:\n",
    "    line_split = line.split()\n",
    "    total_lines_added += int(line_split[0].strip())\n",
    "    total_lines_deleted += int(line_split[1].strip())\n",
    "print(\"Total number of deletions: \" + str(total_lines_deleted))\n",
    "print(\"Total number of additions: \" + str(total_lines_added))"
   ]
  },
  {
   "cell_type": "code",
   "execution_count": 121,
   "metadata": {},
   "outputs": [],
   "source": [
    "def countNumberBlankComments(file, langauge):\n",
    "    total_blank_additions = 0\n",
    "    total_blank_deletions = 0\n",
    "    if langauge == \"Java\":\n",
    "        for line in file:\n",
    "            if line[0] == \"+\":\n",
    "                line = line[1:]\n",
    "                line = line.strip()\n",
    "                if line == \"\":\n",
    "                    total_blank_additions += 1\n",
    "                    continue\n",
    "                if line[0] == \"/\" or line[0] == \"*\":\n",
    "                    total_blank_additions += 1\n",
    "            if line[0] == \"-\":\n",
    "                line = line[1:]\n",
    "                line = line.strip()\n",
    "                if line == \"\":\n",
    "                    total_blank_deletions += 1\n",
    "                    continue\n",
    "                if line[0] == \"/\" or line[0] == \"*\":\n",
    "                    total_blank_deletions += 1\n",
    "    return total_blank_additions, total_blank_deletions"
   ]
  },
  {
   "cell_type": "code",
   "execution_count": 122,
   "metadata": {},
   "outputs": [
    {
     "name": "stdout",
     "output_type": "stream",
     "text": [
      "Total number of deletions (without comments/blanklines): 0\n",
      "Total number of additions (without comments/blanklines): 603\n"
     ]
    }
   ],
   "source": [
    "total_blank = [0, 0]\n",
    "for file in files:\n",
    "    file_split = file.split()\n",
    "    full_dir = file_split[5]\n",
    "    affected_file_diff = repo.git.diff(vcc_commit + \"^\" + \"..\" + vcc_commit, \"--\", full_dir).splitlines()\n",
    "    this_total_blank = countNumberBlankComments(affected_file_diff, \"Java\")  \n",
    "    total_blank = np.add(total_blank, this_total_blank)\n",
    "total_blank_additions = total_lines_added - total_blank[0]\n",
    "total_blank_deletions = total_lines_deleted - total_blank[1]\n",
    "print(\"Total number of deletions (without comments/blanklines): \" + str(total_blank_deletions))\n",
    "print(\"Total number of additions (without comments/blanklines): \" + str(total_blank_additions))"
   ]
  },
  {
   "cell_type": "code",
   "execution_count": 123,
   "metadata": {},
   "outputs": [],
   "source": [
    "def convertToDate(input_date):\n",
    "    split = input_date.split()\n",
    "    year = split[4]\n",
    "    month = strptime(split[1],'%b').tm_mon\n",
    "    day = split[2]\n",
    "    return date(year = int(year), month = month, day = int(day))"
   ]
  },
  {
   "cell_type": "code",
   "execution_count": 124,
   "metadata": {},
   "outputs": [
    {
     "name": "stdout",
     "output_type": "stream",
     "text": [
      "No changes made\n"
     ]
    }
   ],
   "source": [
    "for affected_file in affected_files:\n",
    "    dates = repo.git.log(\"--format=%ad\", vcc_commit, \"--\", affected_file).splitlines()\n",
    "    if len(dates) <= 0:\n",
    "        print(\"File not in this commit: \", affected_file)\n",
    "        continue\n",
    "    date1_object = convertToDate(dates[0])\n",
    "    if len(dates) < 2:\n",
    "        print(\"No changes made\")\n",
    "    else:    \n",
    "        date2_object = convertToDate(dates[1])\n",
    "        total_days = abs((date1_object - date2_object).days)\n",
    "        print(\"Total days since file\", os.path.basename(affected_file), \"changed:\", total_days)"
   ]
  },
  {
   "cell_type": "code",
   "execution_count": 125,
   "metadata": {},
   "outputs": [
    {
     "name": "stdout",
     "output_type": "stream",
     "text": [
      "This file IptcAnpaParser.java has been changed: 1 times\n"
     ]
    }
   ],
   "source": [
    "for affected_file in affected_files:\n",
    "    times = repo.git.log(\"--format=%ad\", vcc_commit, \"--\", affected_file).splitlines()\n",
    "    print(\"This file\", os.path.basename(affected_file), \"has been changed:\", len(times), \"times\")"
   ]
  },
  {
   "cell_type": "code",
   "execution_count": 126,
   "metadata": {},
   "outputs": [
    {
     "name": "stdout",
     "output_type": "stream",
     "text": [
      "For file\n",
      "    10\tNick Burch\n",
      "     3\tTyler Palsulich\n",
      "     3\ttballison\n",
      "     1\tBob Paulin\n",
      "     1\tRay Gauss II\n",
      "     1\tTim Allison\n"
     ]
    }
   ],
   "source": [
    "how_many = repo.git.shortlog(\"-ns\",\"--all\",\"--no-merges\",vcc_commit,\"--\",affected_files).splitlines()\n",
    "print(\"For file\")\n",
    "for line in how_many:\n",
    "    print(line)"
   ]
  },
  {
   "cell_type": "code",
   "execution_count": null,
   "metadata": {},
   "outputs": [],
   "source": [
    " "
   ]
  },
  {
   "cell_type": "code",
   "execution_count": null,
   "metadata": {},
   "outputs": [],
   "source": []
  },
  {
   "cell_type": "code",
   "execution_count": null,
   "metadata": {},
   "outputs": [],
   "source": []
  }
 ],
 "metadata": {
  "kernelspec": {
   "display_name": "Python 3",
   "language": "python",
   "name": "python3"
  },
  "language_info": {
   "codemirror_mode": {
    "name": "ipython",
    "version": 3
   },
   "file_extension": ".py",
   "mimetype": "text/x-python",
   "name": "python",
   "nbconvert_exporter": "python",
   "pygments_lexer": "ipython3",
   "version": "3.7.4"
  }
 },
 "nbformat": 4,
 "nbformat_minor": 4
}
