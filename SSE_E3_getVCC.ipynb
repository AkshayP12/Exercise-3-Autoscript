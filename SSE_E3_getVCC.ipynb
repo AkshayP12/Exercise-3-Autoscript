{
 "cells": [
  {
   "cell_type": "markdown",
   "metadata": {},
   "source": [
    "# Excerise 3"
   ]
  },
  {
   "cell_type": "code",
   "execution_count": 77,
   "metadata": {},
   "outputs": [],
   "source": [
    "import numpy as np\n",
    "import pandas as pd\n",
    "import os\n",
    "import ast\n",
    "import git\n",
    "from git import RemoteProgress\n",
    "from git import Repo\n",
    "from datetime import datetime, date\n",
    "import matplotlib.pyplot as plt\n",
    "import seaborn as sns\n",
    "from time import strptime\n",
    "%matplotlib inline"
   ]
  },
  {
   "cell_type": "code",
   "execution_count": 78,
   "metadata": {},
   "outputs": [],
   "source": [
    "class Progress(RemoteProgress):\n",
    "    def update(self, op_code, cur_count, max_count=None, message=''):\n",
    "        print(self._cur_line)"
   ]
  },
  {
   "cell_type": "markdown",
   "metadata": {},
   "source": [
    "# Git Repo"
   ]
  },
  {
   "cell_type": "code",
   "execution_count": 79,
   "metadata": {},
   "outputs": [],
   "source": [
    "#Spring Framework File 1\n",
    "#remote_link = \"https://github.com/spring-projects/spring-framework\"\n",
    "#local_link = \"C:\\\\Users\\\\User\\\\repo\\\\spring-framework\"\n",
    "#repo = Repo(local_link)\n",
    "#fixing_commit = \"e2d6e709c3c65a4951eb096843ee75d5200cfcad\"\n",
    "#affected_files = [\"spring-webmvc/src/main/java/org/springframework/web/servlet/ResourceServlet.java\"]\n",
    "\n",
    "#Spring Framework File 2\n",
    "#remote_link = \"https://github.com/spring-projects/spring-framework\"\n",
    "#local_link = \"C:\\\\Users\\\\User\\\\repo\\\\spring-framework\"\n",
    "#repo = Repo(local_link)\n",
    "#fixing_commit = \"e2d6e709c3c65a4951eb096843ee75d5200cfcad\"\n",
    "#affected_files = [\"spring-webmvc/src/test/java/org/springframework/web/servlet/ResourceServletTests.java\"]\n",
    "\n",
    "\n",
    "# Camel\n",
    "#remote_link = \"https://github.com/apache/camel\"\n",
    "#local_link = \"C:\\\\Users\\\\User\\\\repo\\\\camel\"\n",
    "#repo = Repo(local_link)\n",
    "#fixing_commit = \"c93a87c36aa4d14ad6f7ee1df9507fa2ca1fd91\"\n",
    "#affected_files = [\"camel-core/src/main/java/org/apache/camel/model/dataformat/JsonDataFormat.java\"]\n",
    "\n",
    "\n",
    "# Tika\n",
    "remote_link = \"https://github.com/apache/tika\"\n",
    "local_link = \"C:\\\\Users\\\\User\\\\repo\\\\tika\"\n",
    "repo = Repo(local_link)\n",
    "fixing_commit = \"62926cae31a02d4f23d21148435804b96c543cc\"\n",
    "affected_files = [\"tika-parsers/src/main/java/org/apache/tika/parser/iptc/IptcAnpaParser.java\"]\n"
   ]
  },
  {
   "cell_type": "markdown",
   "metadata": {},
   "source": [
    "# Function findStartEnd"
   ]
  },
  {
   "cell_type": "code",
   "execution_count": 80,
   "metadata": {},
   "outputs": [],
   "source": [
    "def findStartEnd(file, line_affected):\n",
    "    start = -1\n",
    "    end = -1\n",
    "    current_line = 1\n",
    "    for line in file:\n",
    "        if current_line == line_affected:\n",
    "            i = current_line\n",
    "            found = False\n",
    "            while not found:\n",
    "                i = i - 1\n",
    "                if i == -1:\n",
    "                    break\n",
    "                if \"{\" in file[i - 1]:\n",
    "                    found = True\n",
    "                    start = i\n",
    "                    break;\n",
    "            found = False\n",
    "            i = current_line\n",
    "            while not found:\n",
    "                i = i + 1\n",
    "                if i >= (len(file) - 1):\n",
    "                    break\n",
    "                if \"}\" in file[i - 1]:\n",
    "                    found = True\n",
    "                    end = i\n",
    "                    break   \n",
    "        current_line = current_line + 1\n",
    "    return start, end   "
   ]
  },
  {
   "cell_type": "markdown",
   "metadata": {},
   "source": [
    "# Function makeList"
   ]
  },
  {
   "cell_type": "code",
   "execution_count": 81,
   "metadata": {},
   "outputs": [],
   "source": [
    "def makeList(input_list, value):\n",
    "    found = False\n",
    "    for item in input_list:\n",
    "        if item[\"commit\"] == value:\n",
    "            item[\"count\"] = item[\"count\"] + 1\n",
    "            found = True\n",
    "    if not found:\n",
    "        input_list.append({\"commit\": value, \"count\": 1})\n",
    "    return input_list"
   ]
  },
  {
   "cell_type": "markdown",
   "metadata": {},
   "source": [
    "# Function findAddDelete"
   ]
  },
  {
   "cell_type": "code",
   "execution_count": 82,
   "metadata": {},
   "outputs": [],
   "source": [
    "def findAddDelete(line):\n",
    "    if line[0] == \"@@\":\n",
    "        delete = line[1]\n",
    "        delete = delete[1:]\n",
    "        delete = delete.split(\",\")\n",
    "        if len(delete) < 2:\n",
    "            delete.append(\"1\")\n",
    "        \n",
    "        add = line[2]\n",
    "        add = add[1:]\n",
    "        add = add.split(\",\")\n",
    "        if len(add) < 2:\n",
    "            add.append(\"1\")\n",
    "                \n",
    "        return add, delete"
   ]
  },
  {
   "cell_type": "markdown",
   "metadata": {},
   "source": [
    "# Function findCommon"
   ]
  },
  {
   "cell_type": "code",
   "execution_count": 83,
   "metadata": {},
   "outputs": [],
   "source": [
    "def findCommon(commits_found, exclude):\n",
    "    maximum = -1\n",
    "    commit_found = None\n",
    "    for commit in commits_found:\n",
    "        if exclude in commit[\"commit\"]:\n",
    "            continue\n",
    "        if commit[\"count\"] > maximum:\n",
    "            commit_found = commit[\"commit\"]\n",
    "            maximum = commit[\"count\"]\n",
    "            \n",
    "    return commit_found, maximum"
   ]
  },
  {
   "cell_type": "markdown",
   "metadata": {},
   "source": [
    "# Function getVCC"
   ]
  },
  {
   "cell_type": "code",
   "execution_count": 84,
   "metadata": {
    "scrolled": false
   },
   "outputs": [],
   "source": [
    "def getVCC(files, parameters):\n",
    "    for file in files:\n",
    "        diff_of_file = repo.git.diff(fixing_commit + \"^\" + \"..\" + fixing_commit, \"-U0\", \"--\", file).splitlines()\n",
    "        diff_of_file = diff_of_file[4:]\n",
    "        raw_commit_file = repo.git.show(fixing_commit + \":\" + file).splitlines()\n",
    "        commits_found = []\n",
    "        i = 0\n",
    "        while i < len(diff_of_file):\n",
    "            split_line = diff_of_file[i].split()\n",
    "            if split_line[0] == \"@@\":\n",
    "                additions, deletions = findAddDelete(split_line)\n",
    "                if deletions[1] != 0:\n",
    "                    j = 0\n",
    "                    line_number = int(deletions[0])\n",
    "                    while j < int(deletions[1]):\n",
    "                        j = j + 1\n",
    "                        affected_file_diff = repo.git.blame(parameters,\"-l\", \"-L\" + str(line_number) + \",\" + str(line_number), fixing_commit, \"--\", file).splitlines()\n",
    "                        split_line = affected_file_diff[0].split()\n",
    "                        makeList(commits_found, split_line[0])\n",
    "                    i = i + j\n",
    "                if additions[1] != 0:\n",
    "                    j = 0\n",
    "                    line_number = int(additions[0])\n",
    "                    while j < int(additions[1]):\n",
    "                        j = j + 1\n",
    "                        start, end = findStartEnd(raw_commit_file, j + line_number)                         \n",
    "                        if start != -1 and end != -1:\n",
    "                            affected_file_diff = repo.git.blame(parameters,\"-l\", \"-L\" + str(start) + \",\" + str(end), fixing_commit, \"--\", file).splitlines()                         \n",
    "                        else:\n",
    "                            affected_file_diff = repo.git.blame(parameters,\"-l\", \"-L\" + str(line_number) + \",\" + str(line_number), fixing_commit, \"--\", file).splitlines()             \n",
    "                        for line in affected_file_diff:\n",
    "                                split_line = line.split()\n",
    "                                makeList(commits_found, split_line[0])\n",
    "                        line_number = line_number + 1\n",
    "                    i = i + j                \n",
    "            i = i + 1\n",
    "    return findCommon(commits_found, fixing_commit)"
   ]
  },
  {
   "cell_type": "code",
   "execution_count": 85,
   "metadata": {},
   "outputs": [
    {
     "name": "stdout",
     "output_type": "stream",
     "text": [
      "VCC Commit: de7092125649cd61840e27b1f70d68cfab910d89\n",
      "Frequency: 29\n"
     ]
    }
   ],
   "source": [
    "parameters = None\n",
    "# parameters = \"-w\"\n",
    "# parameters = \"-wM\"\n",
    "# parameters = \"-wC\"\n",
    "# parameters = \"-wCC\"\n",
    "# parameters = \"-wCCC\"\n",
    "\n",
    "VCC = getVCC(affected_files, parameters)\n",
    "\n",
    "print(\"VCC Commit:\", VCC[0])\n",
    "print(\"Frequency:\", VCC[1])"
   ]
  },
  {
   "cell_type": "code",
   "execution_count": null,
   "metadata": {},
   "outputs": [],
   "source": []
  }
 ],
 "metadata": {
  "kernelspec": {
   "display_name": "Python 3",
   "language": "python",
   "name": "python3"
  },
  "language_info": {
   "codemirror_mode": {
    "name": "ipython",
    "version": 3
   },
   "file_extension": ".py",
   "mimetype": "text/x-python",
   "name": "python",
   "nbconvert_exporter": "python",
   "pygments_lexer": "ipython3",
   "version": "3.7.4"
  }
 },
 "nbformat": 4,
 "nbformat_minor": 2
}
